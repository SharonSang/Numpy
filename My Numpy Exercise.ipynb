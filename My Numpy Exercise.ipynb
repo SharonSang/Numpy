{
 "cells": [
  {
   "cell_type": "markdown",
   "id": "c858d229",
   "metadata": {},
   "source": [
    "NumPy Assignment\n",
    "\n",
    "Title: NumPy Assignment\n",
    "    \n",
    "In this assignment, you'll practice using NumPy to solve a problem. You have been given a dataset that represents the height (in centimeters) of 10 students in a class.\n",
    "\n",
    "Dataset:"
   ]
  },
  {
   "cell_type": "code",
   "execution_count": 1,
   "id": "2c8d559e",
   "metadata": {},
   "outputs": [],
   "source": [
    "import numpy as np\n",
    "heights = np.array([160, 155, 172, 165, 180, 158, 175, 163, 171, 168])"
   ]
  },
  {
   "cell_type": "markdown",
   "id": "969736e3",
   "metadata": {},
   "source": [
    "Your task is to:\n",
    "\n",
    "Calculate the mean, median, and standard deviation of the students' heights.\n",
    "\n",
    "Create a new array with the heights normalized, i.e., each height value should be transformed to have a mean of 0 and a standard deviation of 1.\n",
    "\n",
    "Determine the tallest and shortest students in the class using NumPy's argmax and argmin functions.\n",
    "\n",
    "Calculate the difference between the tallest and shortest students' heights.\n",
    "\n",
    "Randomly select 5 heights from the dataset without replacement.\n",
    "\n",
    "Complete the assignment by writing Python code using NumPy. Remember to first import NumPy and use its functions to perform the required calculations. Good luck!\n",
    "\n",
    "Note: The purpose of this assignment is to test your understanding of NumPy concepts covered in this curriculum. Try to complete the assignment without referring back to the curriculum, but if you get stuck, feel free to review the topics and examples provided."
   ]
  },
  {
   "cell_type": "markdown",
   "id": "bc58babe",
   "metadata": {},
   "source": [
    "Solution"
   ]
  },
  {
   "cell_type": "code",
   "execution_count": 3,
   "id": "f6c60d56",
   "metadata": {},
   "outputs": [
    {
     "name": "stdout",
     "output_type": "stream",
     "text": [
      "Mean: 166.7\n",
      "Median: 166.5\n",
      "Standard Deviation: 7.5372408744845085\n"
     ]
    }
   ],
   "source": [
    "mean = np.mean(heights)\n",
    "median = np.median(heights)\n",
    "standard_dev = np.std(heights)\n",
    "print(f\"Mean: {mean}\")\n",
    "print(f\"Median: {median}\")\n",
    "print(f\"Standard Deviation: {standard_dev}\")"
   ]
  },
  {
   "cell_type": "code",
   "execution_count": 7,
   "id": "5df207b0",
   "metadata": {},
   "outputs": [
    {
     "name": "stdout",
     "output_type": "stream",
     "text": [
      "[0.2, 0.0, 0.68, 0.4, 1.0, 0.12, 0.8, 0.32, 0.64, 0.52]\n"
     ]
    }
   ],
   "source": [
    "def normalize(arr, t_min, t_max):\n",
    "    norm_arr = []\n",
    "    diff = t_max - t_min\n",
    "    diff_arr = max(arr) - min(arr)\n",
    "    for i in arr:\n",
    "        temp = (((i - min(arr))*diff)/diff_arr) + t_min\n",
    "        norm_arr.append(temp)\n",
    "    return norm_arr\n",
    "\n",
    "norm_range= (0,1)\n",
    "normalized_heights = normalize(heights,\n",
    "                                norm_range[0],\n",
    "                                norm_range[1])\n",
    "print(normalized_heights)"
   ]
  },
  {
   "cell_type": "code",
   "execution_count": 8,
   "id": "ac0b6889",
   "metadata": {},
   "outputs": [
    {
     "name": "stdout",
     "output_type": "stream",
     "text": [
      "Argmax: 4\n",
      "Argmin: 1\n"
     ]
    }
   ],
   "source": [
    "tallest = np.argmax(heights)\n",
    "shortest = np.argmin(heights)\n",
    "print(f\"Argmax: {tallest}\")\n",
    "print(f\"Argmin: {shortest}\")"
   ]
  },
  {
   "cell_type": "code",
   "execution_count": 9,
   "id": "18f698af",
   "metadata": {},
   "outputs": [
    {
     "name": "stdout",
     "output_type": "stream",
     "text": [
      "Difference between tallest and shortest is : 25\n"
     ]
    }
   ],
   "source": [
    "diff = heights[4]-heights[1]\n",
    "print(f\"Difference between tallest and shortest is : {diff}\")"
   ]
  },
  {
   "cell_type": "code",
   "execution_count": 12,
   "id": "06fb86ce",
   "metadata": {},
   "outputs": [
    {
     "name": "stdout",
     "output_type": "stream",
     "text": [
      "[165 155 172 180 175] Sample without replacement\n"
     ]
    }
   ],
   "source": [
    "sample_without_replacement = np.random.choice(heights,5, replace=False)\n",
    "print(f\"{sample_without_replacement} Sample without replacement\")"
   ]
  },
  {
   "cell_type": "code",
   "execution_count": null,
   "id": "e8ac6e28",
   "metadata": {},
   "outputs": [],
   "source": []
  }
 ],
 "metadata": {
  "kernelspec": {
   "display_name": "Python 3 (ipykernel)",
   "language": "python",
   "name": "python3"
  },
  "language_info": {
   "codemirror_mode": {
    "name": "ipython",
    "version": 3
   },
   "file_extension": ".py",
   "mimetype": "text/x-python",
   "name": "python",
   "nbconvert_exporter": "python",
   "pygments_lexer": "ipython3",
   "version": "3.9.7"
  }
 },
 "nbformat": 4,
 "nbformat_minor": 5
}
